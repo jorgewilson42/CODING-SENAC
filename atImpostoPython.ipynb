{
 "cells": [
  {
   "cell_type": "code",
   "execution_count": 25,
   "metadata": {},
   "outputs": [
    {
     "name": "stdout",
     "output_type": "stream",
     "text": [
      "O valor do seu imposto é 1.0\n"
     ]
    }
   ],
   "source": [
    "#Atividade imposto sobre carros#\n",
    "ano=int(input(\"Digite o ano de fabricação do seu carro\"))\n",
    "preco=float(input(\"Digite o valor do seu carro em reais\"))\n",
    "#A data de fabricação do carro for anterior a 1990, o imposto será de 1%\n",
    "if(ano <= 1990):\n",
    "    print(\"O valor do seu imposto é\", (preco * 1/100))\n",
    "#Caso contrário o imposto será de 1.5%\n",
    "else:\n",
    "    print(\"O valor do seu imposto é\",(preco * 1.5/100))"
   ]
  }
 ],
 "metadata": {
  "kernelspec": {
   "display_name": "Python 3",
   "language": "python",
   "name": "python3"
  },
  "language_info": {
   "codemirror_mode": {
    "name": "ipython",
    "version": 3
   },
   "file_extension": ".py",
   "mimetype": "text/x-python",
   "name": "python",
   "nbconvert_exporter": "python",
   "pygments_lexer": "ipython3",
   "version": "3.11.9"
  }
 },
 "nbformat": 4,
 "nbformat_minor": 2
}

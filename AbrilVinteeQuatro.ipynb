{
 "cells": [
  {
   "cell_type": "code",
   "execution_count": 5,
   "metadata": {},
   "outputs": [
    {
     "data": {
      "text/plain": [
       "3"
      ]
     },
     "execution_count": 5,
     "metadata": {},
     "output_type": "execute_result"
    }
   ],
   "source": [
    "dias = [3, 1, 10]\n",
    "dias[0]"
   ]
  },
  {
   "cell_type": "code",
   "execution_count": 7,
   "metadata": {},
   "outputs": [
    {
     "data": {
      "text/plain": [
       "[7, 8, 9]"
      ]
     },
     "execution_count": 7,
     "metadata": {},
     "output_type": "execute_result"
    }
   ],
   "source": [
    "z=[3,8,9]\n",
    "z[0]=7\n",
    "z"
   ]
  },
  {
   "cell_type": "code",
   "execution_count": 13,
   "metadata": {},
   "outputs": [
    {
     "name": "stdout",
     "output_type": "stream",
     "text": [
      "True\n",
      "True\n",
      "[5, 7, 8, 9]\n",
      "[5, 7, 8, 9]\n"
     ]
    }
   ],
   "source": [
    "v=[6,7,8,9]\n",
    "#criar uma lista\n",
    "l=v\n",
    "#criar um ponteiro\n",
    "print(v==l)\n",
    "print(v is l)\n",
    "v[0]=5\n",
    "print(v)\n",
    "print(l)"
   ]
  },
  {
   "cell_type": "code",
   "execution_count": 15,
   "metadata": {},
   "outputs": [
    {
     "name": "stdout",
     "output_type": "stream",
     "text": [
      "True\n",
      "False\n",
      "[81, 82, 83]\n",
      "[81, 82, 83]\n"
     ]
    }
   ],
   "source": [
    "a = [81,82,83]\n",
    "b = a[:]\n",
    "#criar um clone\n",
    "print(a==b)\n",
    "#o conteúdo de a é igual ao conteúdo de b?\n",
    "print(a is b)\n",
    "#a é b?\n",
    "b[0]\n",
    "print(a)\n",
    "print(b)"
   ]
  },
  {
   "cell_type": "code",
   "execution_count": 18,
   "metadata": {},
   "outputs": [
    {
     "name": "stdout",
     "output_type": "stream",
     "text": [
      "['b', 'c']\n",
      "['a', 'b', 'c', 'd']\n",
      "['d', 'e', 'f']\n",
      "['a', 'b', 'c', 'd', 'e', 'f']\n"
     ]
    }
   ],
   "source": [
    "umaLista = ['a','b','c', 'd', 'e', 'f']\n",
    "print(umaLista[1:3]) #ignore o índice zero\n",
    "print(umaLista[:4]) #até o índice três\n",
    "print(umaLista[3:]) #apartir do índice três\n",
    "print(umaLista[:]) #a lista toda"
   ]
  },
  {
   "cell_type": "code",
   "execution_count": 23,
   "metadata": {},
   "outputs": [
    {
     "name": "stdout",
     "output_type": "stream",
     "text": [
      "3\n"
     ]
    }
   ],
   "source": [
    "a = [1,2,3]\n",
    "b=a[:]\n",
    "b[0]=5\n",
    "print(a[2])"
   ]
  },
  {
   "cell_type": "code",
   "execution_count": 38,
   "metadata": {},
   "outputs": [
    {
     "data": {
      "text/plain": [
       "['p', 'i', 't', 'o', 'm', 'b', 'a']"
      ]
     },
     "execution_count": 38,
     "metadata": {},
     "output_type": "execute_result"
    }
   ],
   "source": [
    "myList =[76,92.3,'oi',True,4,76]\n",
    "myList[:]= 'pitomba'\n",
    "myList"
   ]
  },
  {
   "cell_type": "code",
   "execution_count": 9,
   "metadata": {},
   "outputs": [
    {
     "name": "stdout",
     "output_type": "stream",
     "text": [
      "\n",
      "\n",
      "O índice é igual a 2\n",
      "\n",
      "\n",
      "\n",
      "\n",
      "\n"
     ]
    },
    {
     "data": {
      "text/plain": [
       "[99, 92.3, 'oi', 'Cibele', 4, 76, 'pitomba', 76]"
      ]
     },
     "execution_count": 9,
     "metadata": {},
     "output_type": "execute_result"
    }
   ],
   "source": [
    "#a) inserir \"pitomba\" e 76 no final da lista\n",
    "#b)inserir o valor \"cibele\" na posição de indice 3\n",
    "#c) inserir o valor 99 no início da lista\n",
    "#d) encontrar o indice de \"oi\"\n",
    "#e) remover true da lista\n",
    "\n",
    "myList =[76,92.3,'oi',True,4,76]\n",
    "myList[3] = 'Cibele' #b) & e)\n",
    "myList[0] = 99 #c)\n",
    "theList = ['pitomba', 76] \n",
    "myList =  myList + theList\n",
    "myList\n",
    "\n",
    "if(myList[0] != 'oi'): #d)\n",
    "    print()\n",
    "else:\n",
    "    print('O índice é 0')\n",
    "\n",
    "if(myList[1] != 'oi'):\n",
    "    print()\n",
    "else:\n",
    "    print('O índice é 1')\n",
    "\n",
    "if(myList[2] != 'oi'):\n",
    "    print()\n",
    "else:\n",
    "    print('O índice é 2')\n",
    "\n",
    "if(myList[3] != 'oi'):\n",
    "    print()\n",
    "else:\n",
    "    print('O índice é 3')\n",
    "\n",
    "if(myList[4] != 'oi'):\n",
    "    print()\n",
    "else:\n",
    "    print('O índice é 4')\n",
    "\n",
    "if(myList[5] != 'oi'):\n",
    "    print()\n",
    "else:\n",
    "    print('O índice é 5')\n",
    "\n",
    "if(myList[6] != 'oi'):\n",
    "    print()\n",
    "else:\n",
    "    print('O índice é 6')\n",
    "\n",
    "if(myList[7] != 'oi'):\n",
    "    print()\n",
    "else:\n",
    "    print('O índice é 7')\n",
    "\n",
    "myList\n"
   ]
  },
  {
   "cell_type": "code",
   "execution_count": 11,
   "metadata": {},
   "outputs": [
    {
     "name": "stdout",
     "output_type": "stream",
     "text": [
      "[4, 2, 8, 6, 5, 'Cibele']\n"
     ]
    }
   ],
   "source": [
    "ummaLista = [4,2,8,6,5]\n",
    "ummaLista = ummaLista + ['Cibele']\n",
    "print(ummaLista)"
   ]
  },
  {
   "cell_type": "code",
   "execution_count": 1,
   "metadata": {},
   "outputs": [
    {
     "data": {
      "text/plain": [
       "(10, 20, 30)"
      ]
     },
     "execution_count": 1,
     "metadata": {},
     "output_type": "execute_result"
    }
   ],
   "source": [
    "tuplaNumeros = (10,20,30)\n",
    "tuplaNumeros"
   ]
  },
  {
   "cell_type": "code",
   "execution_count": 3,
   "metadata": {},
   "outputs": [
    {
     "data": {
      "text/plain": [
       "('t', 'e', 's', 't', 'e')"
      ]
     },
     "execution_count": 3,
     "metadata": {},
     "output_type": "execute_result"
    }
   ],
   "source": [
    "tuplaVazia = ()\n",
    "soleTupla = tuple('teste')\n",
    "soleTupla"
   ]
  },
  {
   "cell_type": "code",
   "execution_count": 5,
   "metadata": {},
   "outputs": [
    {
     "data": {
      "text/plain": [
       "0"
      ]
     },
     "execution_count": 5,
     "metadata": {},
     "output_type": "execute_result"
    }
   ],
   "source": [
    "tuplaNomes = ('Marlene','Zezinho','Marlene','Cibele','Zueli')\n",
    "tuplaNomes.count('Marlene')\n",
    "tuplaNomes.count('Suely')"
   ]
  },
  {
   "cell_type": "code",
   "execution_count": 8,
   "metadata": {},
   "outputs": [
    {
     "data": {
      "text/plain": [
       "3"
      ]
     },
     "execution_count": 8,
     "metadata": {},
     "output_type": "execute_result"
    }
   ],
   "source": [
    "tuplaElem=(1,2,2,3,4,4,4)\n",
    "tuplaElem.count(4)"
   ]
  },
  {
   "cell_type": "code",
   "execution_count": null,
   "metadata": {},
   "outputs": [],
   "source": []
  }
 ],
 "metadata": {
  "kernelspec": {
   "display_name": "Python 3",
   "language": "python",
   "name": "python3"
  },
  "language_info": {
   "codemirror_mode": {
    "name": "ipython",
    "version": 3
   },
   "file_extension": ".py",
   "mimetype": "text/x-python",
   "name": "python",
   "nbconvert_exporter": "python",
   "pygments_lexer": "ipython3",
   "version": "3.11.4"
  }
 },
 "nbformat": 4,
 "nbformat_minor": 2
}

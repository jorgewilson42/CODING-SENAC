{
 "cells": [
  {
   "cell_type": "code",
   "execution_count": 1,
   "metadata": {},
   "outputs": [
    {
     "name": "stdout",
     "output_type": "stream",
     "text": [
      "Sua letra é uma vogal\n"
     ]
    }
   ],
   "source": [
    "# Exercício 1\n",
    "#Criando variável para letra.\n",
    "letra = input(\"Digite uma letra:\")\n",
    "\n",
    "#Situacional para diferenciar vogal de consoante.\n",
    "if letra == \"a\" or letra == \"e\" or letra == \"i\" or letra == \"o\" or letra == \"u\":\n",
    "    print(\"Sua letra é uma vogal\")\n",
    "else:\n",
    "    print(\"Sua letra é uma consoante\")\n"
   ]
  },
  {
   "cell_type": "code",
   "execution_count": 2,
   "metadata": {},
   "outputs": [
    {
     "name": "stdout",
     "output_type": "stream",
     "text": [
      "Compre o produto 1 pelo valor de $10\n"
     ]
    }
   ],
   "source": [
    "# Exercício 2\n",
    "#Criando variáveis dos números.\n",
    "preco1 = input(\"Digite o valor do primeiro produto :\")\n",
    "preco2 = input(\"Digite o valor do segundo produto :\")\n",
    "preco3 = input(\"Digite o valor do terceiro produto :\")\n",
    "\n",
    "#Criando os situacionais de preço para definir o melhor valor para compra.\n",
    "if preco1 < preco2 and preco1 < preco3 or preco3 > preco1 and preco2 > preco1:\n",
    "    print(f'Compre o produto 1 pelo valor de ${preco1}')\n",
    "\n",
    "elif preco2 < preco1 and preco2 < preco3 or preco3 > preco2 and preco1 > preco2:#Usando o elif para evitar o uso de massante de if e else.\n",
    "    print(f'Compre o produto 2 pelo valor de ${preco2}')\n",
    "\n",
    "elif preco3 < preco1 and preco3 < preco2 or preco2 > preco3 and preco1 > preco3:\n",
    "    print(f'Compre o produto 3 pelo valor de ${preco3}')\n"
   ]
  },
  {
   "cell_type": "code",
   "execution_count": 3,
   "metadata": {},
   "outputs": [
    {
     "name": "stdout",
     "output_type": "stream",
     "text": [
      "Sua lista de números em ordem crescente é: [10.0, 11.0, 11.0]\n"
     ]
    }
   ],
   "source": [
    "# Exercício 3\n",
    "#Variáveis dos números\n",
    "\n",
    "#Não esquecer de utilizar o float, para transformar a string em número. Caso não use, a lista não será ordenada de forma crescente.\n",
    "\n",
    "num1 = float(input(\"Digite um número :\"))\n",
    "num2 = float(input(\"Digite outro número :\"))\n",
    "num3 = float(input(\"Digite mais um número :\"))\n",
    "\n",
    "#Criando listas e printando em ordem crescente.\n",
    "listaNumeros = [num1,num2,num3]\n",
    "listaNumerosOrdem = listaNumeros\n",
    "print(f'Sua lista de números em ordem crescente é: {sorted(listaNumerosOrdem)}') #Usando o sorted para deixar em ordem.\n",
    "\n",
    "\n"
   ]
  },
  {
   "cell_type": "code",
   "execution_count": 4,
   "metadata": {},
   "outputs": [
    {
     "name": "stdout",
     "output_type": "stream",
     "text": [
      "Bom dia!\n"
     ]
    }
   ],
   "source": [
    "# Exercício 4\n",
    "#Criando variavel para perguntar os turnos.\n",
    "turno = (input(\"Qual turno você estuda? M para matutino, V para verpertino ou N para noturno :\"))\n",
    "\n",
    "#Utilizando if's para definir se é manha, tarde, noite ou se o valor é inválido.\n",
    "if turno == \"M\" or turno == \"m\":\n",
    "    print(\"Bom dia!\")\n",
    "\n",
    "elif turno == \"V\" or turno == \"v\":\n",
    "    print(\"Boa Tarde!\")\n",
    "\n",
    "elif turno == \"N\" or turno == \"n\":\n",
    "    print(\"Boa noite!\")  \n",
    "else:\n",
    "    print(\"Valor inválido\")      "
   ]
  },
  {
   "cell_type": "code",
   "execution_count": 5,
   "metadata": {},
   "outputs": [
    {
     "name": "stdout",
     "output_type": "stream",
     "text": [
      "Sábado\n"
     ]
    }
   ],
   "source": [
    "# Exercício 5\n",
    "#Criando variáveis para os dias da semana.\n",
    "listaDiasSemanais = [\"Domingo\",\"Segunda\",\"Terça\",\"Quarta\",\"Quinta\",\"Sexta\",\"Sábado\"]\n",
    "\n",
    "#Guardando o valor do input na variável \"diasNum\"\n",
    "diasNum = int(input(\"Digite um numero de 1 a 7\"))\n",
    "\n",
    "#Situacional para identificar os dias da semana ou se é inválido. \n",
    "if 1<= diasNum <= 7: #Dizendo que a variável \"diasNum\" tem que estar entre 1 e 7\n",
    "    print(listaDiasSemanais[diasNum - 1])#Printando um elemento da lista e tambem subtraindo 1, já que a contagem em python começa do índice zero. \n",
    "else:\n",
    "    print(\"inválido\")    \n"
   ]
  },
  {
   "cell_type": "code",
   "execution_count": 10,
   "metadata": {},
   "outputs": [
    {
     "name": "stdout",
     "output_type": "stream",
     "text": [
      "Parabéns, você foi APROVADO suas notas foram 5.0 e 2.0, sua média foi 6.0 e seu conceito foi C\n"
     ]
    }
   ],
   "source": [
    "#5.1 questão: Faça um programa que lê duas notas parciais obtidas por um aluno numa disciplina ao longo de um semestre, e calcule sua média. A atribuição de conceitos obedece às regras:\n",
    "\n",
    "#O programa deve mostrar na tela as notas, a média, o conceito correspondente e a mensagem 'APROVADO' se o conceito for A,B ou C ou 'REPROVADO' se o conceito for D ou E.\n",
    "\n",
    "nota1 = float(input(\"Digite sua primeira nota: \"))\n",
    "nota2 = float(input(\"Digite sua segunda nota: \"))\n",
    "\n",
    "mediaNota = nota1 + nota2/2\n",
    "\n",
    "if mediaNota >= 9.0 and mediaNota <= 10:\n",
    "    print(f\"Parabéns, você foi APROVADO suas notas foram {nota1} e {nota2}, sua média foi {mediaNota} e seu conceito foi A\")\n",
    "elif mediaNota >= 7.5 and mediaNota <= 9.0:\n",
    "    print(f\"Parabéns, você foi APROVADO suas notas foram {nota1} e {nota2}, sua média foi {mediaNota} e seu conceito foi B\")\n",
    "elif mediaNota >= 6.0 and mediaNota <= 7.5:\n",
    "    print(f\"Parabéns, você foi APROVADO suas notas foram {nota1} e {nota2}, sua média foi {mediaNota} e seu conceito foi C\")\n",
    "elif mediaNota >= 4.0 and mediaNota <= 6.0:\n",
    "    print(f\"Infelimente, você foi REPROVADO suas notas foram {nota1} e {nota2}, sua média foi {mediaNota} e seu conceito foi D\")    \n",
    "elif mediaNota >= 0.0 and mediaNota <= 4.0:\n",
    "    print(f\"Infelizmente, você foi REPROVADO suas notas foram {nota1} e {nota2}, sua média foi {mediaNota} e seu conceito foi E\")                    "
   ]
  },
  {
   "cell_type": "code",
   "execution_count": 11,
   "metadata": {},
   "outputs": [
    {
     "name": "stdout",
     "output_type": "stream",
     "text": [
      "O ano 2024 é bissexto.\n"
     ]
    }
   ],
   "source": [
    "# Exercício 6 - Ano bissexto\n",
    "ano = int(input(\"Digite um ano: \"))\n",
    "\n",
    "# Verifica se o ano é divisível por 4 e não é divisível por 100, ou se é divisível por 400\n",
    "if ano % 4 == 0 and (ano % 100 != 0 or ano % 400 == 0):\n",
    "    print(f\"O ano {ano} é bissexto.\")\n",
    "else:\n",
    "    print(f\"O ano {ano} não é bissexto.\")"
   ]
  },
  {
   "cell_type": "code",
   "execution_count": 12,
   "metadata": {},
   "outputs": [
    {
     "name": "stdout",
     "output_type": "stream",
     "text": [
      "O resultado da operação é 20.0. O número é par. O número é positivo. O número é inteiro.\n"
     ]
    }
   ],
   "source": [
    "# Exercício 7 - Operações básicas\n",
    "num1 = float(input(\"Digite o primeiro número: \"))\n",
    "num2 = float(input(\"Digite o segundo número: \"))\n",
    "\n",
    "operacao = input(\"Escolha a operação (soma, subtração, multiplicação, divisão, exponenciação): \")\n",
    "\n",
    "# Realiza a operação selecionada\n",
    "if operacao == \"soma\":\n",
    "    resultado = num1 + num2\n",
    "elif operacao == \"subtração\":\n",
    "    resultado = num1 - num2\n",
    "elif operacao == \"multiplicação\":\n",
    "    resultado = num1 * num2\n",
    "elif operacao == \"divisão\":\n",
    "    resultado = num1 / num2\n",
    "elif operacao == \"exponenciação\":\n",
    "    resultado = num1 ** num2\n",
    "\n",
    "# Constrói a frase de resultado com informações adicionais\n",
    "frase = f\"O resultado da operação é {resultado}.\"\n",
    "if resultado % 2 == 0:\n",
    "    frase += \" O número é par.\"\n",
    "else:\n",
    "    frase += \" O número é ímpar.\"\n",
    "\n",
    "if resultado > 0:\n",
    "    frase += \" O número é positivo.\"\n",
    "elif resultado < 0:\n",
    "    frase += \" O número é negativo.\"\n",
    "\n",
    "if resultado.is_integer():\n",
    "    frase += \" O número é inteiro.\"\n",
    "else:\n",
    "    frase += \" O número é decimal.\"\n",
    "\n",
    "print(frase)\n"
   ]
  },
  {
   "cell_type": "code",
   "execution_count": 14,
   "metadata": {},
   "outputs": [
    {
     "name": "stdout",
     "output_type": "stream",
     "text": [
      "Sua idade é 129.\n"
     ]
    }
   ],
   "source": [
    "# Exercício 8 - Idade aceitável\n",
    "idade = int(input(\"Digite sua idade: \"))\n",
    "\n",
    "# Verifica se a idade está entre 0 e 150\n",
    "if 0 <= idade <= 150:\n",
    "    print(f\"Sua idade é {idade}.\")\n",
    "else:\n",
    "    print(\"Idade inválida. A idade deve estar entre 0 e 150.\")"
   ]
  },
  {
   "cell_type": "code",
   "execution_count": 15,
   "metadata": {},
   "outputs": [
    {
     "name": "stdout",
     "output_type": "stream",
     "text": [
      "A soma dos números é 31.0 e a média é 6.2.\n"
     ]
    }
   ],
   "source": [
    "# Exercício 9 - Soma e média de 5 números\n",
    "numeros = []\n",
    "soma = 0\n",
    "for i in range(5):\n",
    "    numero = float(input(f\"Digite o {i+1}º número: \"))\n",
    "    numeros.append(numero)\n",
    "    soma += numero\n",
    "\n",
    "media = soma / 5\n",
    "print(f\"A soma dos números é {soma} e a média é {media}.\")"
   ]
  },
  {
   "cell_type": "code",
   "execution_count": 17,
   "metadata": {},
   "outputs": [
    {
     "name": "stdout",
     "output_type": "stream",
     "text": [
      "O número 11 é primo.\n"
     ]
    }
   ],
   "source": [
    "# Exercício 10 - Número primo\n",
    "numero = int(input(\"Digite um número inteiro: \"))\n",
    "\n",
    "if numero > 1:\n",
    "    for i in range(2, numero):\n",
    "        if (numero % i) == 0:\n",
    "            print(f\"O número {numero} não é primo.\")\n",
    "            break\n",
    "    else:\n",
    "        print(f\"O número {numero} é primo.\")\n",
    "else:\n",
    "    print(f\"O número {numero} não é primo.\")"
   ]
  },
  {
   "cell_type": "code",
   "execution_count": 18,
   "metadata": {},
   "outputs": [
    {
     "name": "stdout",
     "output_type": "stream",
     "text": [
      "A menor temperatura é 15.0, a maior temperatura é 32.0 e a média das temperaturas é 26.6.\n"
     ]
    }
   ],
   "source": [
    "# Exercício 11 - Temperaturas\n",
    "temperaturas = []\n",
    "for i in range(5):\n",
    "    temperatura = float(input(f\"Digite a {i+1}ª temperatura: \"))\n",
    "    temperaturas.append(temperatura)\n",
    "\n",
    "# Encontra a menor, maior e média das temperaturas\n",
    "menor_temperatura = min(temperaturas)\n",
    "maior_temperatura = max(temperaturas)\n",
    "media_temperatura = sum(temperaturas) / 5\n",
    "\n",
    "print(f\"A menor temperatura é {menor_temperatura}, a maior temperatura é {maior_temperatura} e a média das temperaturas é {media_temperatura}.\")"
   ]
  },
  {
   "cell_type": "code",
   "execution_count": 19,
   "metadata": {},
   "outputs": [
    {
     "name": "stdout",
     "output_type": "stream",
     "text": [
      "Olá, maria! Com base na sua idade, você poderá se aposentar no ano de 2074.\n"
     ]
    }
   ],
   "source": [
    "# Exercício 13\n",
    "# Solicita o nome da pessoa\n",
    "nome = input(\"Olá! Qual é o seu nome? \")\n",
    "\n",
    "# Solicita a idade da pessoa\n",
    "idade = int(input(\"Quantos anos você tem? \"))\n",
    "\n",
    "# Calcula o ano em que a pessoa poderá se aposentar\n",
    "ano_aposentadoria = 2024 + (65 - idade)\n",
    "\n",
    "# Exibe a mensagem com o ano de aposentadoria\n",
    "print(f\"Olá, {nome}! Com base na sua idade, você poderá se aposentar no ano de {ano_aposentadoria}.\")"
   ]
  },
  {
   "cell_type": "code",
   "execution_count": 20,
   "metadata": {},
   "outputs": [
    {
     "name": "stdout",
     "output_type": "stream",
     "text": [
      "Salário Bruto: R$ 4500.00\n",
      "Desconto do Imposto de Renda: R$ 1012.50\n",
      "Desconto do Sindicato: R$ 135.00\n",
      "FGTS: R$ 495.00\n",
      "Salário Líquido: R$ 3352.50\n"
     ]
    }
   ],
   "source": [
    "# Exercício 14\n",
    "# Solicita o valor da hora de trabalho e a quantidade de horas trabalhadas\n",
    "valor_hora = float(input(\"Digite o valor da sua hora de trabalho: \"))\n",
    "horas_trabalhadas = int(input(\"Digite a quantidade de horas trabalhadas no mês: \"))\n",
    "\n",
    "# Calcula o salário bruto\n",
    "salario_bruto = valor_hora * horas_trabalhadas\n",
    "\n",
    "# Calcula o desconto do Imposto de Renda\n",
    "if salario_bruto <= 2112.00:\n",
    "    desconto_ir = 0\n",
    "elif salario_bruto <= 2826.65:\n",
    "    desconto_ir = salario_bruto * 0.075\n",
    "elif salario_bruto <= 3751.05:\n",
    "    desconto_ir = salario_bruto * 0.15\n",
    "elif salario_bruto <= 4664.68:\n",
    "    desconto_ir = salario_bruto * 0.225\n",
    "else:\n",
    "    desconto_ir = salario_bruto * 0.275\n",
    "\n",
    "# Calcula o desconto do Sindicato (3%)\n",
    "desconto_sindicato = salario_bruto * 0.03\n",
    "\n",
    "# Calcula o valor do FGTS (11% do salário bruto)\n",
    "fgts = salario_bruto * 0.11\n",
    "\n",
    "# Calcula o salário líquido (salário bruto menos os descontos)\n",
    "salario_liquido = salario_bruto - desconto_ir - desconto_sindicato\n",
    "\n",
    "# Exibe os resultados\n",
    "print(f\"Salário Bruto: R$ {salario_bruto:.2f}\")\n",
    "print(f\"Desconto do Imposto de Renda: R$ {desconto_ir:.2f}\")\n",
    "print(f\"Desconto do Sindicato: R$ {desconto_sindicato:.2f}\")\n",
    "print(f\"FGTS: R$ {fgts:.2f}\")\n",
    "print(f\"Salário Líquido: R$ {salario_liquido:.2f}\")"
   ]
  }
 ],
 "metadata": {
  "kernelspec": {
   "display_name": "Python 3",
   "language": "python",
   "name": "python3"
  },
  "language_info": {
   "codemirror_mode": {
    "name": "ipython",
    "version": 3
   },
   "file_extension": ".py",
   "mimetype": "text/x-python",
   "name": "python",
   "nbconvert_exporter": "python",
   "pygments_lexer": "ipython3",
   "version": "3.12.3"
  }
 },
 "nbformat": 4,
 "nbformat_minor": 2
}

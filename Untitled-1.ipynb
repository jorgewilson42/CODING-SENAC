{
 "cells": [
  {
   "cell_type": "code",
   "execution_count": null,
   "metadata": {},
   "outputs": [],
   "source": [
    "def soma(n1,n2):\n",
    "    return n1+n2\n",
    "def subtrai(n1,n2):\n",
    "    return n1-n2\n",
    "def multiplica(n1,n2):\n",
    "    return n1*n2\n",
    "def divide(n1,n2):\n",
    "    return n1/n2"
   ]
  },
  {
   "cell_type": "code",
   "execution_count": null,
   "metadata": {},
   "outputs": [],
   "source": [
    "while True:\n",
    "    print('| menu de operações |')\n",
    "    print('| 1 - somar         |')\n",
    "    print('| 2 - subtrair      |')\n",
    "    print('| 3 - multiplicar   |')\n",
    "    print('| 4 - dividir       |')\n",
    "    print('| 0 - sair          |')\n",
    "\n",
    " op = int(input('código'))\n",
    "if op==0:\n",
    "    break\n",
    "\n",
    "n1 = int(input('primeiro número'))\n",
    "n2 = int(input('segundo numero'))\n",
    "\n",
    "if op==1:\n",
    "    print('O resultado da soma é:',soma(n1,n2))\n",
    "elif op==2:\n",
    "    print('o resultado da divisão é:',divide(n1,n2))\n",
    "elif op==3:\n",
    "    print('o resultado da multiplicação é:', multiplica(n1,n2))\n",
    "elif op==4:\n",
    "    print('o resultado da divisão é:',divide(n1,n2))\n",
    "else:\n",
    "    print('por favor digite um número válido')\n"
   ]
  },
  {
   "cell_type": "code",
   "execution_count": null,
   "metadata": {},
   "outputs": [],
   "source": [
    "def variosParametros(*parametros):\n",
    "    for n, item in enumerate(parametros):\n",
    "        print('Parâmetros', n, item)\n",
    "    return"
   ]
  },
  {
   "cell_type": "code",
   "execution_count": null,
   "metadata": {},
   "outputs": [],
   "source": [
    "variosParametros('Cibele','Suely','Giggio','Modá','Luquinhas')"
   ]
  },
  {
   "cell_type": "code",
   "execution_count": null,
   "metadata": {},
   "outputs": [],
   "source": [
    "varGlobal = 10 #essa é uma variável global\n",
    "def multiplica (n1,n2):\n",
    "    varGlobal = (n1*n2) #essa é uma variável local\n",
    "    print('Variável de função multiplicar', varGlobal)\n",
    "\n",
    "    print(varGlobal)\n",
    "    print(varLocal)"
   ]
  },
  {
   "cell_type": "code",
   "execution_count": null,
   "metadata": {},
   "outputs": [],
   "source": [
    "multiplica(5,4)"
   ]
  }
 ],
 "metadata": {
  "kernelspec": {
   "display_name": "Python 3",
   "language": "python",
   "name": "python3"
  },
  "language_info": {
   "name": "python",
   "version": "3.11.4"
  }
 },
 "nbformat": 4,
 "nbformat_minor": 2
}

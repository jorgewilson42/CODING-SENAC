{
 "cells": [
  {
   "cell_type": "code",
   "execution_count": 25,
   "metadata": {},
   "outputs": [
    {
     "name": "stdout",
     "output_type": "stream",
     "text": [
      "O valor do seu imposto é 1.0\n"
     ]
    }
   ],
   "source": [
    "#Desafio I, cálculo de impostos\n",
    "ano=int(input(\"Digite o ano de fabricação do seu carro\"))\n",
    "preco=float(input(\"Digite o valor do seu carro em reais\"))\n",
    "#A data de fabricação do carro for anterior a 1990, o imposto será de 1%\n",
    "if(ano <= 1990):\n",
    "    print(\"O valor do seu imposto é\", (preco * 1/100))\n",
    "#Caso contrário o imposto será de 1.5%\n",
    "else:\n",
    "    print(\"O valor do seu imposto é\",(preco * 1.5/100))"
   ]
  },
  {
   "cell_type": "code",
   "execution_count": 56,
   "metadata": {},
   "outputs": [],
   "source": [
    "#Desafio II, calcule o salário\n",
    "cargo=int(input(\"Digite o código ou nome do seu cargo\"))\n",
    "sal=float(input(\"Digite o seu salário mensal\"))\n",
    "#Código dos funcionários\n",
    "ger=101\n",
    "eng=102\n",
    "tec=103\n",
    "#Tabela de aumentos\n",
    "#gera=10/100\n",
    "#enga=20/100\n",
    "#teca=30/100\n",
    "#others=40/100\n",
    "\n",
    "#gerente\n",
    "if(cargo==101 or cargo==\"gerente\"):\n",
    "    print(sal*10/100)\n",
    "\n",
    "#engenheiro\n",
    "if(cargo==102 or cargo==\"engenheiro\"):\n",
    "    print(sal*20/100)\n",
    "\n",
    "#técnico\n",
    "if(cargo==103 or cargo==\"tecnico\"):\n",
    "    print(sal*30/100)\n",
    "\n",
    "\n"
   ]
  }
 ],
 "metadata": {
  "kernelspec": {
   "display_name": "Python 3",
   "language": "python",
   "name": "python3"
  },
  "language_info": {
   "codemirror_mode": {
    "name": "ipython",
    "version": 3
   },
   "file_extension": ".py",
   "mimetype": "text/x-python",
   "name": "python",
   "nbconvert_exporter": "python",
   "pygments_lexer": "ipython3",
   "version": "3.11.9"
  }
 },
 "nbformat": 4,
 "nbformat_minor": 2
}

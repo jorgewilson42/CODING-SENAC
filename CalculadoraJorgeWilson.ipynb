{
 "cells": [
  {
   "cell_type": "code",
   "execution_count": 2,
   "metadata": {},
   "outputs": [
    {
     "name": "stdout",
     "output_type": "stream",
     "text": [
      "Selecione a operação:\n",
      "1. Soma\n",
      "2. Subtração\n",
      "3. Multiplicação\n",
      "4. Divisão\n",
      "5. Potência\n",
      "6. Raiz Quadrada\n",
      "Resultado: 10240000000000.0\n"
     ]
    }
   ],
   "source": [
    "#CALCULADORA\n",
    "\n",
    "\n",
    "import math\n",
    "\n",
    "def soma(a, b):\n",
    "    return a + b\n",
    "\n",
    "def subtracao(a, b):\n",
    "    return a - b\n",
    "\n",
    "def multiplicacao(a, b):\n",
    "    return a * b\n",
    "\n",
    "def divisao(a, b):\n",
    "    if b == 0:\n",
    "        return \"Erro! Divisão por zero.\"\n",
    "    else:\n",
    "        return a / b\n",
    "\n",
    "def potencia(a, b):\n",
    "    return a ** b\n",
    "\n",
    "def raiz_quadrada(a):\n",
    "    if a < 0:\n",
    "        return \"Erro! Não é possível calcular a raiz quadrada de um número negativo.\"\n",
    "    else:\n",
    "        return math.sqrt(a)\n",
    "\n",
    "print(\"Selecione a operação:\")\n",
    "print(\"1. Soma\")\n",
    "print(\"2. Subtração\")\n",
    "print(\"3. Multiplicação\")\n",
    "print(\"4. Divisão\")\n",
    "print(\"5. Potência\")\n",
    "print(\"6. Raiz Quadrada\")\n",
    "\n",
    "escolha = input(\"Digite a sua escolha (1/2/3/4/5/6): \")\n",
    "\n",
    "if escolha in ('1', '2', '3', '4', '5'):\n",
    "    num1 = float(input(\"Digite o primeiro número: \"))\n",
    "    num2 = float(input(\"Digite o segundo número: \"))\n",
    "\n",
    "    if escolha == '1':\n",
    "        print(\"Resultado:\", soma(num1, num2))\n",
    "    elif escolha == '2':\n",
    "        print(\"Resultado:\", subtracao(num1, num2))\n",
    "    elif escolha == '3':\n",
    "        print(\"Resultado:\", multiplicacao(num1, num2))\n",
    "    elif escolha == '4':\n",
    "        print(\"Resultado:\", divisao(num1, num2))\n",
    "    elif escolha == '5':\n",
    "        print(\"Resultado:\", potencia(num1, num2))\n",
    "elif escolha == '6':\n",
    "    num = float(input(\"Digite o número para calcular a raiz quadrada: \"))\n",
    "    print(\"Resultado:\", raiz_quadrada(num))\n",
    "else:\n",
    "    print(\"Escolha inválida\")\n"
   ]
  }
 ],
 "metadata": {
  "kernelspec": {
   "display_name": "Python 3",
   "language": "python",
   "name": "python3"
  },
  "language_info": {
   "codemirror_mode": {
    "name": "ipython",
    "version": 3
   },
   "file_extension": ".py",
   "mimetype": "text/x-python",
   "name": "python",
   "nbconvert_exporter": "python",
   "pygments_lexer": "ipython3",
   "version": "3.11.4"
  }
 },
 "nbformat": 4,
 "nbformat_minor": 2
}

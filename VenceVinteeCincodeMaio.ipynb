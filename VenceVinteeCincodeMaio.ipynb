{
 "cells": [
  {
   "cell_type": "code",
   "execution_count": null,
   "metadata": {},
   "outputs": [],
   "source": []
  },
  {
   "cell_type": "code",
   "execution_count": 85,
   "metadata": {},
   "outputs": [
    {
     "ename": "TypeError",
     "evalue": "string indices must be integers, not 'tuple'",
     "output_type": "error",
     "traceback": [
      "\u001b[1;31m---------------------------------------------------------------------------\u001b[0m",
      "\u001b[1;31mTypeError\u001b[0m                                 Traceback (most recent call last)",
      "Cell \u001b[1;32mIn[85], line 2\u001b[0m\n\u001b[0;32m      1\u001b[0m patinhos \u001b[38;5;241m=\u001b[39m \u001b[38;5;124m'\u001b[39m\u001b[38;5;124mpatinhos\u001b[39m\u001b[38;5;124m'\u001b[39m\n\u001b[1;32m----> 2\u001b[0m \u001b[38;5;28;01mwhile\u001b[39;00m \u001b[43mpatinhos\u001b[49m\u001b[43m \u001b[49m\u001b[43m[\u001b[49m\u001b[38;5;241;43m0\u001b[39;49m\u001b[43m \u001b[49m\u001b[43m,\u001b[49m\u001b[43m \u001b[49m\u001b[38;5;241;43m5\u001b[39;49m\u001b[43m]\u001b[49m:\n\u001b[0;32m      3\u001b[0m     p \u001b[38;5;241m=\u001b[39m \u001b[38;5;28mint\u001b[39m(\u001b[38;5;28minput\u001b[39m(\u001b[38;5;124m'\u001b[39m\u001b[38;5;124mDigite quantos patinhos foram passear.\u001b[39m\u001b[38;5;124m'\u001b[39m))\n\u001b[0;32m      4\u001b[0m     patinhos \u001b[38;5;241m+\u001b[39m\u001b[38;5;241m=\u001b[39m \u001b[38;5;241m-\u001b[39m\u001b[38;5;241m1\u001b[39m\n",
      "\u001b[1;31mTypeError\u001b[0m: string indices must be integers, not 'tuple'"
     ]
    }
   ],
   "source": [
    "#Tentativa A\n",
    "patinhos = 'patinhos'\n",
    "while patinhos [0 , 5]:\n",
    "    p = int(input('Digite quantos patinhos foram passear.'))\n",
    "    patinhos += -1\n",
    "print(patinhos, 'patinhos foram passear')\n",
    "print ('a mamãe gritou', 'quack '*patinhos)\n"
   ]
  },
  {
   "cell_type": "code",
   "execution_count": 92,
   "metadata": {},
   "outputs": [
    {
     "name": "stdout",
     "output_type": "stream",
     "text": [
      "2  elefantes incomodam muito mais\n",
      "2  elefantes incomodam muito mais\n",
      "2  elefantes incomodam muito mais\n",
      "2  elefantes incomodam muito mais\n",
      "2  elefantes incomodam muito mais\n",
      "2  elefantes incomodam muito mais\n",
      "2  elefantes incomodam muito mais\n",
      "2  elefantes incomodam muito mais\n",
      "2  elefantes incomodam muito mais\n",
      "2  elefantes incomodam muito mais\n",
      "2  elefantes incomodam muito mais\n"
     ]
    }
   ],
   "source": [
    "#Tentativa A\n",
    "elefantes = 'elefantes'\n",
    "elefantes = int(input())\n",
    "for elementos in [0,1,2,3,4,5,6,7,8,9,10]:\n",
    "    if (elefantes // 2) == 0:\n",
    "        print ('incomodam' * elefantes)\n",
    "    else: \n",
    "        print (elefantes, ' elefantes incomodam muito mais')\n"
   ]
  },
  {
   "cell_type": "code",
   "execution_count": 75,
   "metadata": {},
   "outputs": [
    {
     "name": "stdout",
     "output_type": "stream",
     "text": [
      "1  elefantes incomodam muita gente\n",
      "2 elefantes  incomodam incomodam  muito mais!\n",
      "3  elefantes incomodam muita gente\n",
      "4 elefantes  incomodam incomodam incomodam incomodam  muito mais!\n",
      "5  elefantes incomodam muita gente\n",
      "6 elefantes  incomodam incomodam incomodam incomodam incomodam incomodam  muito mais!\n",
      "7  elefantes incomodam muita gente\n",
      "8 elefantes  incomodam incomodam incomodam incomodam incomodam incomodam incomodam incomodam  muito mais!\n",
      "9  elefantes incomodam muita gente\n",
      "10 elefantes  incomodam incomodam incomodam incomodam incomodam incomodam incomodam incomodam incomodam incomodam  muito mais!\n"
     ]
    }
   ],
   "source": [
    "#Tentativa B\n",
    "incomodam = \"incomodam \"\n",
    "elefantes = 1\n",
    "for n in [1, 2, 3, 4, 5, 6, 7, 8, 9, 10]:\n",
    "  if n % 2 == 0:\n",
    "    print(n, \"elefantes \" ,incomodam * n, \"muito mais!\")\n",
    "  elif n % 2 != 0:\n",
    "    print(n, \" elefantes incomodam muita gente\")"
   ]
  },
  {
   "cell_type": "code",
   "execution_count": 76,
   "metadata": {},
   "outputs": [
    {
     "name": "stdout",
     "output_type": "stream",
     "text": [
      "10  elefantes incomodam muita gente\n",
      "9 elefantes  incomodam incomodam incomodam incomodam incomodam incomodam incomodam incomodam incomodam  muito menos!\n",
      "8  elefantes incomodam muita gente\n",
      "7 elefantes  incomodam incomodam incomodam incomodam incomodam incomodam incomodam  muito menos!\n",
      "6  elefantes incomodam muita gente\n",
      "5 elefantes  incomodam incomodam incomodam incomodam incomodam  muito menos!\n",
      "4  elefantes incomodam muita gente\n",
      "3 elefantes  incomodam incomodam incomodam  muito menos!\n",
      "2  elefantes incomodam muita gente\n",
      "1 elefantes  incomodam  muito menos!\n"
     ]
    }
   ],
   "source": [
    "#Tentativa B\n",
    "incomodam = \"incomodam \"\n",
    "elefantes = 1\n",
    "for n in [10, 9, 8, 7, 6, 5, 4, 3, 2, 1]:\n",
    "  if n % 2 != 0:\n",
    "    print(n, \"elefantes \" ,incomodam * n, \"muito menos!\")\n",
    "  elif n % 2 == 0:\n",
    "    print(n, \" elefantes incomodam muita gente\")"
   ]
  },
  {
   "cell_type": "code",
   "execution_count": 101,
   "metadata": {},
   "outputs": [
    {
     "ename": "TypeError",
     "evalue": "'<=' not supported between instances of 'str' and 'int'",
     "output_type": "error",
     "traceback": [
      "\u001b[1;31m---------------------------------------------------------------------------\u001b[0m",
      "\u001b[1;31mTypeError\u001b[0m                                 Traceback (most recent call last)",
      "Cell \u001b[1;32mIn[101], line 2\u001b[0m\n\u001b[0;32m      1\u001b[0m elemento \u001b[38;5;241m=\u001b[39m \u001b[38;5;124m'\u001b[39m\u001b[38;5;124melemento\u001b[39m\u001b[38;5;124m'\u001b[39m\n\u001b[1;32m----> 2\u001b[0m \u001b[38;5;28;01mwhile\u001b[39;00m elemento \u001b[38;5;241m<\u001b[39m\u001b[38;5;241m=\u001b[39m \u001b[38;5;28mlen\u001b[39m([\u001b[38;5;241m1\u001b[39m, \u001b[38;5;241m2\u001b[39m, \u001b[38;5;241m3\u001b[39m, \u001b[38;5;241m4\u001b[39m, \u001b[38;5;241m5\u001b[39m, \u001b[38;5;241m6\u001b[39m]):\u001b[38;5;28mprint\u001b[39m(\u001b[38;5;124m'\u001b[39m\u001b[38;5;124mEstamos no elemento \u001b[39m\u001b[38;5;124m'\u001b[39m, elemento)\n\u001b[0;32m      3\u001b[0m elemento \u001b[38;5;241m+\u001b[39m\u001b[38;5;241m=\u001b[39m\u001b[38;5;241m1\u001b[39m\n",
      "\u001b[1;31mTypeError\u001b[0m: '<=' not supported between instances of 'str' and 'int'"
     ]
    }
   ],
   "source": [
    "#Mariana\n",
    "elemento = 'elemento'\n",
    "while elemento <= len([1, 2, 3, 4, 5, 6]):print('Estamos no elemento ', elemento)\n",
    "elemento +=1\n"
   ]
  }
 ],
 "metadata": {
  "kernelspec": {
   "display_name": "Python 3",
   "language": "python",
   "name": "python3"
  },
  "language_info": {
   "codemirror_mode": {
    "name": "ipython",
    "version": 3
   },
   "file_extension": ".py",
   "mimetype": "text/x-python",
   "name": "python",
   "nbconvert_exporter": "python",
   "pygments_lexer": "ipython3",
   "version": "3.11.4"
  }
 },
 "nbformat": 4,
 "nbformat_minor": 2
}

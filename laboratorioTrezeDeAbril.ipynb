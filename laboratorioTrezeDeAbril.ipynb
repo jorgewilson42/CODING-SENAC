{
 "cells": [
  {
   "cell_type": "code",
   "execution_count": 7,
   "metadata": {},
   "outputs": [
    {
     "name": "stdout",
     "output_type": "stream",
     "text": [
      "5.0\n",
      "14.0\n"
     ]
    }
   ],
   "source": [
    "numinta= int(input(\"digite um número inteiro\"))\n",
    "numintb= int(input(\"digite outro número inteiro\"))\n",
    "numreal= float(input(\"digite um número real\"))\n",
    "\n",
    "print(2*numinta+numintb/2)\n",
    "print(3*numinta+numreal**3)"
   ]
  },
  {
   "cell_type": "code",
   "execution_count": 27,
   "metadata": {},
   "outputs": [
    {
     "name": "stdout",
     "output_type": "stream",
     "text": [
      "5.0\n"
     ]
    }
   ],
   "source": [
    "numa= float(input(\"Digite um número\"))\n",
    "numb= float(input(\"Digite outro número\"))\n",
    "if(numa-numb > 0):\n",
    "    print(numa)\n",
    "if(numa-numb < 0):\n",
    "    print(numb)"
   ]
  },
  {
   "cell_type": "code",
   "execution_count": 32,
   "metadata": {},
   "outputs": [
    {
     "name": "stdout",
     "output_type": "stream",
     "text": [
      "O valor é positivo\n"
     ]
    }
   ],
   "source": [
    "numero= float(input(\"Digite seu número\"))\n",
    "if(numero > 0):\n",
    "    print(\"O valor é positivo\")\n",
    "else:\n",
    "    print(\"O valor é negativo\")"
   ]
  },
  {
   "cell_type": "code",
   "execution_count": 35,
   "metadata": {},
   "outputs": [
    {
     "name": "stdout",
     "output_type": "stream",
     "text": [
      "Aprovado\n"
     ]
    }
   ],
   "source": [
    "nota1= int(input(\"Digite a nota do primeiro período\"))\n",
    "nota2= int(input(\"Digite a nota do segundo período\"))\n",
    "if(((nota1+nota2)/2)>=7):\n",
    "    print(\"Aprovado\")\n",
    "else:\n",
    "    print(\"Reprovado\")"
   ]
  }
 ],
 "metadata": {
  "kernelspec": {
   "display_name": "Python 3",
   "language": "python",
   "name": "python3"
  },
  "language_info": {
   "codemirror_mode": {
    "name": "ipython",
    "version": 3
   },
   "file_extension": ".py",
   "mimetype": "text/x-python",
   "name": "python",
   "nbconvert_exporter": "python",
   "pygments_lexer": "ipython3",
   "version": "3.12.1"
  }
 },
 "nbformat": 4,
 "nbformat_minor": 2
}

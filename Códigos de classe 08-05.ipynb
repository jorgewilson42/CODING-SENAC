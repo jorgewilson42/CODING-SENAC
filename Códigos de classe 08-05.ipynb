{
 "cells": [
  {
   "cell_type": "code",
   "execution_count": 3,
   "metadata": {},
   "outputs": [
    {
     "ename": "SyntaxError",
     "evalue": "expected ':' (4000871832.py, line 1)",
     "output_type": "error",
     "traceback": [
      "\u001b[1;36m  Cell \u001b[1;32mIn[3], line 1\u001b[1;36m\u001b[0m\n\u001b[1;33m    for produto in range (0,4)\u001b[0m\n\u001b[1;37m                              ^\u001b[0m\n\u001b[1;31mSyntaxError\u001b[0m\u001b[1;31m:\u001b[0m expected ':'\n"
     ]
    }
   ],
   "source": [
    "for produto in range (0,4)\n",
    "p = str(input(\"digite o nome do produto\"))\n",
    "v = float(input(\"digite \"))\n",
    "\n",
    "for elemento in [1,2,3,4,5,6]:\n",
    "   print (\"estamos no elemento\", elemento)\n",
    "\n",
    "for elemento in range(len(\"string\")):\n",
    "    print(\"estamos no elemento\", elemento)"
   ]
  },
  {
   "cell_type": "code",
   "execution_count": 8,
   "metadata": {},
   "outputs": [],
   "source": [
    "produto = 0 \n",
    "while produto < 4:\n",
    "    p = str(input('digite o nome do produto'))\n",
    "    v = float(input('digite o valor do produto'))\n",
    "    produto += 1"
   ]
  },
  {
   "cell_type": "code",
   "execution_count": 15,
   "metadata": {},
   "outputs": [
    {
     "ename": "TypeError",
     "evalue": "'str' object is not callable",
     "output_type": "error",
     "traceback": [
      "\u001b[1;31m---------------------------------------------------------------------------\u001b[0m",
      "\u001b[1;31mTypeError\u001b[0m                                 Traceback (most recent call last)",
      "Cell \u001b[1;32mIn[15], line 5\u001b[0m\n\u001b[0;32m      2\u001b[0m indice \u001b[38;5;241m=\u001b[39m \u001b[38;5;241m0\u001b[39m \n\u001b[0;32m      4\u001b[0m \u001b[38;5;28;01mwhile\u001b[39;00m indice \u001b[38;5;129;01min\u001b[39;00m \u001b[38;5;28mrange\u001b[39m (\u001b[38;5;28mlen\u001b[39m(s)):\n\u001b[1;32m----> 5\u001b[0m     \u001b[38;5;28mprint\u001b[39m (\u001b[38;5;124m'\u001b[39m\u001b[38;5;124mEstamos no elemento\u001b[39m\u001b[38;5;124m'\u001b[39m, \u001b[43ms\u001b[49m\u001b[43m(\u001b[49m\u001b[43mindice\u001b[49m\u001b[43m)\u001b[49m)\n\u001b[0;32m      6\u001b[0m     indice \u001b[38;5;241m+\u001b[39m\u001b[38;5;241m=\u001b[39m \u001b[38;5;241m1\u001b[39m\n",
      "\u001b[1;31mTypeError\u001b[0m: 'str' object is not callable"
     ]
    }
   ],
   "source": [
    "s = 'STRING'\n",
    "indice = 0 \n",
    "\n",
    "while indice in range (len(s)):\n",
    "    print ('Estamos no elemento', s(indice))\n",
    "    indice += 1"
   ]
  },
  {
   "cell_type": "code",
   "execution_count": 17,
   "metadata": {},
   "outputs": [
    {
     "name": "stdout",
     "output_type": "stream",
     "text": [
      "0 t\n",
      "1 r\n",
      "2 a\n",
      "3 n\n",
      "4 q\n",
      "5 u\n",
      "6 i\n",
      "7 l\n",
      "8 o\n"
     ]
    }
   ],
   "source": [
    "palavra = 'tranquilo'\n",
    "for indice, letra in enumerate(palavra):\n",
    "    print(indice, letra)"
   ]
  },
  {
   "cell_type": "code",
   "execution_count": 20,
   "metadata": {},
   "outputs": [
    {
     "name": "stdout",
     "output_type": "stream",
     "text": [
      "Tipo:  <class 'enumerate'>\n",
      "[(0, 'eat'), (1, 'sleep'), (2, 'repeat')]\n",
      "[(2, 'g'), (3, 'e'), (4, 'e'), (5, 'k')]\n"
     ]
    }
   ],
   "source": [
    "lista = ['eat', 'sleep', 'repeat']\n",
    "palavra = 'geek'\n",
    "\n",
    "objeto1 = enumerate (lista)\n",
    "objeto2 = enumerate (palavra)\n",
    "\n",
    "print ('Tipo: ', type(objeto1))\n",
    "print (list(enumerate(lista)))\n",
    "\n",
    "print (list(enumerate(palavra,2)))"
   ]
  },
  {
   "cell_type": "code",
   "execution_count": 21,
   "metadata": {},
   "outputs": [
    {
     "name": "stdout",
     "output_type": "stream",
     "text": [
      "oi\n",
      "oi\n",
      "oi\n",
      "oi\n",
      "oi\n",
      "oi\n",
      "oi\n",
      "oi\n",
      "oi\n",
      "oi\n",
      "oi\n",
      "oi\n",
      "oi\n"
     ]
    }
   ],
   "source": [
    "s = 'viva o python'\n",
    "for ch in s:\n",
    "    print('oi')"
   ]
  },
  {
   "cell_type": "code",
   "execution_count": 22,
   "metadata": {},
   "outputs": [
    {
     "name": "stdout",
     "output_type": "stream",
     "text": [
      "oi\n",
      "oi\n",
      "oi\n",
      "oi\n",
      "oi\n"
     ]
    }
   ],
   "source": [
    "s = 'viva o python'\n",
    "for ch in s[3:8]:\n",
    "    print('oi')"
   ]
  },
  {
   "cell_type": "code",
   "execution_count": 14,
   "metadata": {},
   "outputs": [
    {
     "name": "stdout",
     "output_type": "stream",
     "text": [
      "estamos no elemento 0\n",
      "estamos no elemento 1\n",
      "estamos no elemento 2\n",
      "estamos no elemento 3\n",
      "estamos no elemento 4\n",
      "estamos no elemento 5\n",
      "estamos no elemento 6\n"
     ]
    }
   ],
   "source": [
    "elemento = 0\n",
    "while elemento <= len([1,2,3,4,5,6]):\n",
    "    print ('estamos no elemento', elemento)\n",
    "    elemento +=1"
   ]
  },
  {
   "cell_type": "code",
   "execution_count": 11,
   "metadata": {},
   "outputs": [
    {
     "name": "stdout",
     "output_type": "stream",
     "text": [
      "estamos no elemento 1\n",
      "estamos no elemento 2\n",
      "estamos no elemento 3\n",
      "estamos no elemento 4\n",
      "estamos no elemento 5\n",
      "estamos no elemento 6\n"
     ]
    }
   ],
   "source": [
    "for elemento in [1,2,3,4,5,6]:\n",
    "   print (\"estamos no elemento\", elemento)"
   ]
  },
  {
   "cell_type": "code",
   "execution_count": 4,
   "metadata": {},
   "outputs": [
    {
     "name": "stdout",
     "output_type": "stream",
     "text": [
      "estamos no elemento 0\n",
      "estamos no elemento 1\n",
      "estamos no elemento 2\n",
      "estamos no elemento 3\n",
      "estamos no elemento 4\n",
      "estamos no elemento 5\n"
     ]
    }
   ],
   "source": [
    "for elemento in range(len(\"string\")):\n",
    "    print(\"estamos no elemento\", elemento)\n"
   ]
  },
  {
   "cell_type": "code",
   "execution_count": 25,
   "metadata": {},
   "outputs": [
    {
     "data": {
      "text/plain": [
       "10"
      ]
     },
     "execution_count": 25,
     "metadata": {},
     "output_type": "execute_result"
    }
   ],
   "source": [
    "x\n",
    "int(input(\"Digite 10 (dez) números\"))\n",
    "if\n"
   ]
  },
  {
   "cell_type": "code",
   "execution_count": 29,
   "metadata": {},
   "outputs": [
    {
     "name": "stdout",
     "output_type": "stream",
     "text": [
      "Quantidade de números pares: 4\n",
      "Quantidade de números ímpares: 6\n"
     ]
    }
   ],
   "source": [
    "\n",
    "def count_even_odd(numbers):\n",
    "    even_count = 0\n",
    "    odd_count = 0\n",
    "    for num in numbers:\n",
    "        # se a sobra da divisão por dois for igual a zero adicione um a contagem de pares\n",
    "        if num % 2 == 0:\n",
    "            even_count += 1\n",
    "        # caso contrário adicione um a contagem de números ímpares\n",
    "        else:\n",
    "            odd_count += 1\n",
    "    return even_count, odd_count\n",
    "\n",
    "def main():\n",
    "    numbers = []\n",
    "    for i in range(10):\n",
    "        num = int(input(\"Enter number {}: \".format(i+1)))\n",
    "        numbers.append(num)\n",
    "\n",
    "    even_count, odd_count = count_even_odd(numbers)\n",
    "    print(\"Quantidade de números pares:\", even_count)\n",
    "    print(\"Quantidade de números ímpares:\", odd_count)\n",
    "\n",
    "if __name__ == \"__main__\":\n",
    "    main()"
   ]
  }
 ],
 "metadata": {
  "kernelspec": {
   "display_name": "Python 3",
   "language": "python",
   "name": "python3"
  },
  "language_info": {
   "codemirror_mode": {
    "name": "ipython",
    "version": 3
   },
   "file_extension": ".py",
   "mimetype": "text/x-python",
   "name": "python",
   "nbconvert_exporter": "python",
   "pygments_lexer": "ipython3",
   "version": "3.11.4"
  }
 },
 "nbformat": 4,
 "nbformat_minor": 2
}
